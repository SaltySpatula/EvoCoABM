{
 "cells": [
  {
   "cell_type": "code",
   "execution_count": 1,
   "metadata": {},
   "outputs": [],
   "source": [
    "from Model import Model"
   ]
  },
  {
   "cell_type": "code",
   "execution_count": 2,
   "metadata": {
    "pycharm": {
     "name": "#%%\n"
    }
   },
   "outputs": [
    {
     "name": "stdout",
     "output_type": "stream",
     "text": [
      "Running model...\n",
      "Starting Iteration: 0\n",
      "0\n",
      "0\n",
      "2\n",
      "0\n",
      "2\n",
      "Starting Iteration: 1\n",
      "Starting Iteration: 2\n",
      "Starting Iteration: 3\n",
      "Starting Iteration: 4\n",
      "Starting Iteration: 5\n",
      "Starting Iteration: 6\n",
      "Starting Iteration: 7\n",
      "Starting Iteration: 8\n",
      "Starting Iteration: 9\n",
      "Starting Iteration: 10\n",
      "Starting Iteration: 11\n",
      "Starting Iteration: 12\n",
      "Starting Iteration: 13\n",
      "Starting Iteration: 14\n",
      "Starting Iteration: 15\n",
      "Starting Iteration: 16\n",
      "Starting Iteration: 17\n",
      "Starting Iteration: 18\n",
      "Starting Iteration: 19\n",
      "Done\n"
     ]
    },
    {
     "name": "stderr",
     "output_type": "stream",
     "text": [
      "/home/adrian/Desktop/FS2021/Agent-based modeling for Business, Economics, Informatics and Social Science/final_project/EvoCoABM/Agent.py:16: FutureWarning: elementwise comparison failed; returning scalar instead, but in the future will perform elementwise comparison\n",
      "  self.send_token = initial_action if initial_action in self.communication_tokens else 0\n",
      "/home/adrian/Desktop/FS2021/Agent-based modeling for Business, Economics, Informatics and Social Science/final_project/EvoCoABM/Agent.py:36: FutureWarning: elementwise comparison failed; returning scalar instead, but in the future will perform elementwise comparison\n",
      "  self.send_token = initial_action if initial_action in self.communication_tokens else 0\n",
      "/home/adrian/Desktop/FS2021/Agent-based modeling for Business, Economics, Informatics and Social Science/final_project/EvoCoABM/Agent.py:26: FutureWarning: elementwise comparison failed; returning scalar instead, but in the future will perform elementwise comparison\n",
      "  if action in self.communication_tokens:\n"
     ]
    }
   ],
   "source": [
    "model = Model(5, 2, 2, 20, 'GA', 100)\n",
    "model.run_model()"
   ]
  }
 ],
 "metadata": {
  "kernelspec": {
   "display_name": "Python 3",
   "language": "python",
   "name": "python3"
  },
  "language_info": {
   "codemirror_mode": {
    "name": "ipython",
    "version": 3
   },
   "file_extension": ".py",
   "mimetype": "text/x-python",
   "name": "python",
   "nbconvert_exporter": "python",
   "pygments_lexer": "ipython3",
   "version": "3.8.5"
  }
 },
 "nbformat": 4,
 "nbformat_minor": 1
}
